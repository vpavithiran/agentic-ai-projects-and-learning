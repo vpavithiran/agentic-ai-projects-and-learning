{
 "cells": [
  {
   "cell_type": "code",
   "execution_count": 1,
   "id": "91801ed7",
   "metadata": {},
   "outputs": [],
   "source": [
    "from dotenv import load_dotenv\n",
    "load_dotenv()\n",
    "import os \n",
    "os.environ['GROQ_API_KEY'] = os.getenv('GROQ_API_KEY')\n",
    "groq_api_key = os.getenv('GROQ_API_KEY')"
   ]
  },
  {
   "cell_type": "code",
   "execution_count": null,
   "id": "8f771c94",
   "metadata": {},
   "outputs": [
    {
     "data": {
      "text/plain": [
       "AIMessage(content=\"I'm an AI assistant designed by Meta. I'm here to answer your questions, share interesting ideas and maybe even surprise you with a fresh perspective. What's on your mind?\", additional_kwargs={}, response_metadata={'token_usage': {'completion_tokens': 34, 'prompt_tokens': 13, 'total_tokens': 47, 'completion_time': 0.033072006, 'prompt_time': 0.00059311, 'queue_time': 0.282838236, 'total_time': 0.033665116}, 'model_name': 'meta-llama/llama-4-maverick-17b-128e-instruct', 'system_fingerprint': 'fp_7c27472e1f', 'service_tier': 'on_demand', 'finish_reason': 'stop', 'logprobs': None}, id='run--0881e4b7-cf50-4d39-9f21-f0ab0d23cea5-0', usage_metadata={'input_tokens': 13, 'output_tokens': 34, 'total_tokens': 47})"
      ]
     },
     "execution_count": 4,
     "metadata": {},
     "output_type": "execute_result"
    }
   ],
   "source": [
    "from langchain_groq import ChatGroq\n",
    "model = ChatGroq(model=\"meta-llama/llama-4-maverick-17b-128e-instruct\", api_key=groq_api_key)\n",
    "model.invoke(\"who are you\")"
   ]
  },
  {
   "cell_type": "code",
   "execution_count": 5,
   "id": "8b8a42db",
   "metadata": {},
   "outputs": [
    {
     "data": {
      "text/plain": [
       "\"I'm an AI assistant designed by Meta. I'm here to answer your questions, share interesting ideas and maybe even surprise you with a fresh perspective. What's on your mind?\""
      ]
     },
     "execution_count": 5,
     "metadata": {},
     "output_type": "execute_result"
    }
   ],
   "source": [
    "model.invoke(\"who are you\").content"
   ]
  },
  {
   "cell_type": "code",
   "execution_count": 11,
   "id": "33bf9063",
   "metadata": {},
   "outputs": [],
   "source": [
    "from typing_extensions import TypedDict\n",
    "class State(TypedDict):\n",
    "    topic:str\n",
    "    story:str\n",
    "    improved_story:str\n",
    "    final_story:str"
   ]
  },
  {
   "cell_type": "code",
   "execution_count": 22,
   "id": "ecf891ba",
   "metadata": {},
   "outputs": [],
   "source": [
    "def generate(state:State):\n",
    "    return {\"story\": model.invoke(f\"Write a one sentence story premise about: {state['topic']}\")}\n",
    "\n",
    "def check_confict(state:State):\n",
    "    if \"?\" in state['story'] or \"!\" in state['story']:\n",
    "        return \"Fail\"\n",
    "    else:\n",
    "        return \"Pass\"\n",
    "\n",
    "def improve(state:State):\n",
    "    return {\"improved_story\": model.invoke(f\"Enhance this story premise with vivid details:{state[\"story\"]}. don't reply just give the content i asked\")}\n",
    "\n",
    "def polish(state:State):\n",
    "    return {\"final_story\": model.invoke(f\"Add an unexpected twist to this story premise:{state[\"improved_story\"]}. don't reply just give the content i asked\")}"
   ]
  },
  {
   "cell_type": "code",
   "execution_count": 23,
   "id": "efb65e29",
   "metadata": {},
   "outputs": [
    {
     "data": {
      "image/png": "[encoded data removed]",
      "text/plain": [
       "<IPython.core.display.Image object>"
      ]
     },
     "metadata": {},
     "output_type": "display_data"
    }
   ],
   "source": [
    "from langgraph.graph import StateGraph, START, END\n",
    "builder = StateGraph(State)\n",
    "# nodes\n",
    "builder.add_node('generate', generate)\n",
    "builder.add_node('improve', improve)\n",
    "builder.add_node('polish', polish)\n",
    "\n",
    "# edges\n",
    "builder.add_edge(START, \"generate\")\n",
    "builder.add_conditional_edges(\"generate\", check_confict, {\"Pass\":\"improve\", \"Fail\":\"generate\"})\n",
    "builder.add_edge(\"improve\", \"polish\")\n",
    "builder.add_edge(\"polish\", END)\n",
    "\n",
    "graph = builder.compile()\n",
    "\n",
    "from IPython.display import display, Image\n",
    "display(Image(graph.get_graph().draw_mermaid_png()))"
   ]
  },
  {
   "cell_type": "code",
   "execution_count": null,
   "id": "9e7796bf",
   "metadata": {},
   "outputs": [],
   "source": [
    "direction = graph.invoke({\"topic\":\"batman vs superman\"})"
   ]
  },
  {
   "cell_type": "code",
   "execution_count": 25,
   "id": "63c5b07e",
   "metadata": {},
   "outputs": [
    {
     "data": {
      "text/plain": [
       "\"In a dark and gritty Gotham City, where the towering skyscrapers seemed to loom like specters over the narrow, rain-soaked streets, a power-hungry Superman had turned against humanity. The once-iconic hero now stood as a menacing figure, his eyes blazing with an unyielding intensity as he enforced his twisted will upon the cowering populace. However, unbeknownst to Batman and the rest of the world, Superman's transformation was not a result of his own corruption, but rather a consequence of being possessed by a time-traveling alien entity from a future where humanity had destroyed itself, and this entity had chosen Superman as a vessel to guide humanity towards a more authoritarian, yet supposedly sustainable, future. The streets, once filled with the hum of activity, were now desolate and eerily silent, save for the distant hum of the Bat-Signal, a beacon calling out to a battered and bruised Batman.\\n\\nEmerging from the shadows, Batman was a shadow of his former self, his suit torn and battered, his eyes sunken from the weight of his crusade against the Man of Steel. Unbeknownst to him, his determination to stop Superman was not just driven by his desire to protect humanity, but also by a personal connection to the future entity possessing Superman - a future version of his own son, Damian, who had become the entity after a cataclysmic event that had driven him to seek a radical solution to prevent humanity's self-destruction. The Dark Knight's movements were labored, his usually fluid steps now heavy with the burden of his injuries.\\n\\nAs Batman navigated the dark alleys and crumbling infrastructure of Gotham, the city's decay seemed to mirror his own physical and emotional state. The air was thick with the acrid smell of smoke and desperation, a constant reminder of the tyranny that Superman had unleashed upon the world. But amidst the chaos, strange occurrences began to hint that the reality was more complex - technology malfunctioning, only to repair itself, and eerie whispers in the dark that seemed to emanate from an unseen presence watching both Superman and Batman.\\n\\nWith each step, Batman drew closer to the heart of the city, where Superman waited, his presence a palpable force that seemed to reverberate through every molecule of air. The stage was set for a clash of titans, a battle that would decide the fate of humanity and the future of the world. But as they clashed, the truth about Superman's possession and the true nature of the conflict began to unravel, forcing Batman to confront not just his enemy, but the very fabric of his beliefs and the destiny of his son, caught between his past and a future that was now influencing the present.\""
      ]
     },
     "execution_count": 25,
     "metadata": {},
     "output_type": "execute_result"
    }
   ],
   "source": [
    "direction['final_story'].content"
   ]
  },
  {
   "cell_type": "code",
   "execution_count": 29,
   "id": "9f04f25d",
   "metadata": {},
   "outputs": [
    {
     "name": "stdout",
     "output_type": "stream",
     "text": [
      "('In a dark and gritty Gotham City, where the towering skyscrapers seemed to '\n",
      " 'loom like specters over the narrow, rain-soaked streets, a power-hungry '\n",
      " 'Superman had turned against humanity. The once-iconic hero now stood as a '\n",
      " 'menacing figure, his eyes blazing with an unyielding intensity as he '\n",
      " 'enforced his twisted will upon the cowering populace. However, unbeknownst '\n",
      " \"to Batman and the rest of the world, Superman's transformation was not a \"\n",
      " 'result of his own corruption, but rather a consequence of being possessed by '\n",
      " 'a time-traveling alien entity from a future where humanity had destroyed '\n",
      " 'itself, and this entity had chosen Superman as a vessel to guide humanity '\n",
      " 'towards a more authoritarian, yet supposedly sustainable, future. The '\n",
      " 'streets, once filled with the hum of activity, were now desolate and eerily '\n",
      " 'silent, save for the distant hum of the Bat-Signal, a beacon calling out to '\n",
      " 'a battered and bruised Batman.\\n'\n",
      " '\\n'\n",
      " 'Emerging from the shadows, Batman was a shadow of his former self, his suit '\n",
      " 'torn and battered, his eyes sunken from the weight of his crusade against '\n",
      " 'the Man of Steel. Unbeknownst to him, his determination to stop Superman was '\n",
      " 'not just driven by his desire to protect humanity, but also by a personal '\n",
      " 'connection to the future entity possessing Superman - a future version of '\n",
      " 'his own son, Damian, who had become the entity after a cataclysmic event '\n",
      " \"that had driven him to seek a radical solution to prevent humanity's \"\n",
      " \"self-destruction. The Dark Knight's movements were labored, his usually \"\n",
      " 'fluid steps now heavy with the burden of his injuries.\\n'\n",
      " '\\n'\n",
      " 'As Batman navigated the dark alleys and crumbling infrastructure of Gotham, '\n",
      " \"the city's decay seemed to mirror his own physical and emotional state. The \"\n",
      " 'air was thick with the acrid smell of smoke and desperation, a constant '\n",
      " 'reminder of the tyranny that Superman had unleashed upon the world. But '\n",
      " 'amidst the chaos, strange occurrences began to hint that the reality was '\n",
      " 'more complex - technology malfunctioning, only to repair itself, and eerie '\n",
      " 'whispers in the dark that seemed to emanate from an unseen presence watching '\n",
      " 'both Superman and Batman.\\n'\n",
      " '\\n'\n",
      " 'With each step, Batman drew closer to the heart of the city, where Superman '\n",
      " 'waited, his presence a palpable force that seemed to reverberate through '\n",
      " 'every molecule of air. The stage was set for a clash of titans, a battle '\n",
      " 'that would decide the fate of humanity and the future of the world. But as '\n",
      " \"they clashed, the truth about Superman's possession and the true nature of \"\n",
      " 'the conflict began to unravel, forcing Batman to confront not just his '\n",
      " 'enemy, but the very fabric of his beliefs and the destiny of his son, caught '\n",
      " 'between his past and a future that was now influencing the present.')\n"
     ]
    }
   ],
   "source": [
    "from pprint import PrettyPrinter,pprint\n",
    "direction['final_story'].content\n",
    "pprint(direction['final_story'].content)"
   ]
  },
  {
   "cell_type": "code",
   "execution_count": 30,
   "id": "627627e0",
   "metadata": {},
   "outputs": [
    {
     "name": "stdout",
     "output_type": "stream",
     "text": [
      "('In a dark and gritty Gotham City, where the towering '\n",
      " 'skyscrapers seemed to loom like specters over the '\n",
      " 'narrow, rain-soaked streets, a power-hungry Superman had '\n",
      " 'turned against humanity. The once-iconic hero now stood '\n",
      " 'as a menacing figure, his eyes blazing with an '\n",
      " 'unyielding intensity as he enforced his twisted will '\n",
      " 'upon the cowering populace. However, unbeknownst to '\n",
      " \"Batman and the rest of the world, Superman's \"\n",
      " 'transformation was not a result of his own corruption, '\n",
      " 'but rather a consequence of being possessed by a '\n",
      " 'time-traveling alien entity from a future where humanity '\n",
      " 'had destroyed itself, and this entity had chosen '\n",
      " 'Superman as a vessel to guide humanity towards a more '\n",
      " 'authoritarian, yet supposedly sustainable, future. The '\n",
      " 'streets, once filled with the hum of activity, were now '\n",
      " 'desolate and eerily silent, save for the distant hum of '\n",
      " 'the Bat-Signal, a beacon calling out to a battered and '\n",
      " 'bruised Batman.\\n'\n",
      " '\\n'\n",
      " 'Emerging from the shadows, Batman was a shadow of his '\n",
      " 'former self, his suit torn and battered, his eyes sunken '\n",
      " 'from the weight of his crusade against the Man of Steel. '\n",
      " 'Unbeknownst to him, his determination to stop Superman '\n",
      " 'was not just driven by his desire to protect humanity, '\n",
      " 'but also by a personal connection to the future entity '\n",
      " 'possessing Superman - a future version of his own son, '\n",
      " 'Damian, who had become the entity after a cataclysmic '\n",
      " 'event that had driven him to seek a radical solution to '\n",
      " \"prevent humanity's self-destruction. The Dark Knight's \"\n",
      " 'movements were labored, his usually fluid steps now '\n",
      " 'heavy with the burden of his injuries.\\n'\n",
      " '\\n'\n",
      " 'As Batman navigated the dark alleys and crumbling '\n",
      " \"infrastructure of Gotham, the city's decay seemed to \"\n",
      " 'mirror his own physical and emotional state. The air was '\n",
      " 'thick with the acrid smell of smoke and desperation, a '\n",
      " 'constant reminder of the tyranny that Superman had '\n",
      " 'unleashed upon the world. But amidst the chaos, strange '\n",
      " 'occurrences began to hint that the reality was more '\n",
      " 'complex - technology malfunctioning, only to repair '\n",
      " 'itself, and eerie whispers in the dark that seemed to '\n",
      " 'emanate from an unseen presence watching both Superman '\n",
      " 'and Batman.\\n'\n",
      " '\\n'\n",
      " 'With each step, Batman drew closer to the heart of the '\n",
      " 'city, where Superman waited, his presence a palpable '\n",
      " 'force that seemed to reverberate through every molecule '\n",
      " 'of air. The stage was set for a clash of titans, a '\n",
      " 'battle that would decide the fate of humanity and the '\n",
      " 'future of the world. But as they clashed, the truth '\n",
      " \"about Superman's possession and the true nature of the \"\n",
      " 'conflict began to unravel, forcing Batman to confront '\n",
      " 'not just his enemy, but the very fabric of his beliefs '\n",
      " 'and the destiny of his son, caught between his past and '\n",
      " 'a future that was now influencing the present.')\n"
     ]
    }
   ],
   "source": [
    "custom_printer = PrettyPrinter(indent=4, width=60, depth=2, sort_dicts=False)\n",
    "custom_printer.pprint(direction['final_story'].content)\n"
   ]
  },
  {
   "cell_type": "code",
   "execution_count": 31,
   "id": "2947de6c",
   "metadata": {},
   "outputs": [
    {
     "data": {
      "text/plain": [
       "{'topic': 'batman vs superman',\n",
       " 'story': AIMessage(content=\"In a dark and gritty Gotham City, a power-hungry Superman has turned against humanity, forcing a battered and bruised Batman to emerge from the shadows and take on his former ally in a desperate bid to save the world from the Man of Steel's tyranny.\", additional_kwargs={}, response_metadata={'token_usage': {'completion_tokens': 58, 'prompt_tokens': 22, 'total_tokens': 80, 'completion_time': 0.203853837, 'prompt_time': 0.051477101, 'queue_time': 0.305541399, 'total_time': 0.255330938}, 'model_name': 'meta-llama/llama-4-maverick-17b-128e-instruct', 'system_fingerprint': 'fp_7c27472e1f', 'service_tier': 'on_demand', 'finish_reason': 'stop', 'logprobs': None}, id='run--1ec543cd-cfb5-49b6-be9c-d4448f94f5ba-0', usage_metadata={'input_tokens': 22, 'output_tokens': 58, 'total_tokens': 80}),\n",
       " 'improved_story': AIMessage(content=\"In a dark and gritty Gotham City, where the towering skyscrapers seemed to loom like specters over the narrow, rain-soaked streets, a power-hungry Superman had turned against humanity. The once-iconic hero now stood as a menacing figure, his eyes blazing with an unyielding intensity as he enforced his twisted will upon the cowering populace. The streets, once filled with the hum of activity, were now desolate and eerily silent, save for the distant hum of the Bat-Signal, a beacon calling out to a battered and bruised Batman.\\n\\nEmerging from the shadows, Batman was a shadow of his former self, his suit torn and battered, his eyes sunken from the weight of his crusade against the Man of Steel. The Dark Knight's movements were labored, his usually fluid steps now heavy with the burden of his injuries. Despite this, a fierce determination burned within him, driving him forward as he steeled himself for the ultimate confrontation against his former ally.\\n\\nAs Batman navigated the dark alleys and crumbling infrastructure of Gotham, the city's decay seemed to mirror his own physical and emotional state. The air was thick with the acrid smell of smoke and desperation, a constant reminder of the tyranny that Superman had unleashed upon the world. The sound of shattering glass and crumbling concrete filled the air, a cacophony of chaos that underscored the urgency of Batman's mission.\\n\\nWith each step, Batman drew closer to the heart of the city, where Superman waited, his presence a palpable force that seemed to reverberate through every molecule of air. The stage was set for a clash of titans, a battle that would decide the fate of humanity and the future of the world. The darkness seemed to coalesce around Batman, a manifestation of his unyielding resolve, as he prepared to face the Man of Steel in a desperate bid to save the world from Superman's tyranny.\", additional_kwargs={}, response_metadata={'token_usage': {'completion_tokens': 408, 'prompt_tokens': 269, 'total_tokens': 677, 'completion_time': 0.748238683, 'prompt_time': 0.644596473, 'queue_time': 0.308678257, 'total_time': 1.392835156}, 'model_name': 'meta-llama/llama-4-maverick-17b-128e-instruct', 'system_fingerprint': 'fp_7c27472e1f', 'service_tier': 'on_demand', 'finish_reason': 'stop', 'logprobs': None}, id='run--1c53f2a6-d72e-4197-95bd-59a4c3b750d7-0', usage_metadata={'input_tokens': 269, 'output_tokens': 408, 'total_tokens': 677}),\n",
       " 'final_story': AIMessage(content=\"In a dark and gritty Gotham City, where the towering skyscrapers seemed to loom like specters over the narrow, rain-soaked streets, a power-hungry Superman had turned against humanity. The once-iconic hero now stood as a menacing figure, his eyes blazing with an unyielding intensity as he enforced his twisted will upon the cowering populace. However, unbeknownst to Batman and the rest of the world, Superman's transformation was not a result of his own corruption, but rather a consequence of being possessed by a time-traveling alien entity from a future where humanity had destroyed itself, and this entity had chosen Superman as a vessel to guide humanity towards a more authoritarian, yet supposedly sustainable, future. The streets, once filled with the hum of activity, were now desolate and eerily silent, save for the distant hum of the Bat-Signal, a beacon calling out to a battered and bruised Batman.\\n\\nEmerging from the shadows, Batman was a shadow of his former self, his suit torn and battered, his eyes sunken from the weight of his crusade against the Man of Steel. Unbeknownst to him, his determination to stop Superman was not just driven by his desire to protect humanity, but also by a personal connection to the future entity possessing Superman - a future version of his own son, Damian, who had become the entity after a cataclysmic event that had driven him to seek a radical solution to prevent humanity's self-destruction. The Dark Knight's movements were labored, his usually fluid steps now heavy with the burden of his injuries.\\n\\nAs Batman navigated the dark alleys and crumbling infrastructure of Gotham, the city's decay seemed to mirror his own physical and emotional state. The air was thick with the acrid smell of smoke and desperation, a constant reminder of the tyranny that Superman had unleashed upon the world. But amidst the chaos, strange occurrences began to hint that the reality was more complex - technology malfunctioning, only to repair itself, and eerie whispers in the dark that seemed to emanate from an unseen presence watching both Superman and Batman.\\n\\nWith each step, Batman drew closer to the heart of the city, where Superman waited, his presence a palpable force that seemed to reverberate through every molecule of air. The stage was set for a clash of titans, a battle that would decide the fate of humanity and the future of the world. But as they clashed, the truth about Superman's possession and the true nature of the conflict began to unravel, forcing Batman to confront not just his enemy, but the very fabric of his beliefs and the destiny of his son, caught between his past and a future that was now influencing the present.\", additional_kwargs={}, response_metadata={'token_usage': {'completion_tokens': 569, 'prompt_tokens': 629, 'total_tokens': 1198, 'completion_time': 1.001494424, 'prompt_time': 0.01367393, 'queue_time': 0.2923909, 'total_time': 1.015168354}, 'model_name': 'meta-llama/llama-4-maverick-17b-128e-instruct', 'system_fingerprint': 'fp_7c27472e1f', 'service_tier': 'on_demand', 'finish_reason': 'stop', 'logprobs': None}, id='run--3ef84c65-dc97-4950-a8d6-f815f01775c1-0', usage_metadata={'input_tokens': 629, 'output_tokens': 569, 'total_tokens': 1198})}"
      ]
     },
     "execution_count": 31,
     "metadata": {},
     "output_type": "execute_result"
    }
   ],
   "source": [
    "direction"
   ]
  },
  {
   "cell_type": "code",
   "execution_count": null,
   "id": "0318512e",
   "metadata": {},
   "outputs": [],
   "source": []
  }
 ],
 "metadata": {
  "kernelspec": {
   "display_name": "venv",
   "language": "python",
   "name": "python3"
  },
  "language_info": {
   "codemirror_mode": {
    "name": "ipython",
    "version": 3
   },
   "file_extension": ".py",
   "mimetype": "text/x-python",
   "name": "python",
   "nbconvert_exporter": "python",
   "pygments_lexer": "ipython3",
   "version": "3.12.0"
  }
 },
 "nbformat": 4,
 "nbformat_minor": 5
}

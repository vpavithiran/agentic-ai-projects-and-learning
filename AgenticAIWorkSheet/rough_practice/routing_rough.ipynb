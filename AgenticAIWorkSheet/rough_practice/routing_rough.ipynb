{
 "cells": [
  {
   "cell_type": "code",
   "execution_count": 7,
   "id": "ae161187",
   "metadata": {},
   "outputs": [
    {
     "data": {
      "text/plain": [
       "AIMessage(content='Hello! How can I help you today?', additional_kwargs={'reasoning_content': 'We need to respond. The user says \"hello\". Just greet. Use friendly tone.'}, response_metadata={'token_usage': {'completion_tokens': 37, 'prompt_tokens': 72, 'total_tokens': 109, 'completion_time': 0.073751123, 'prompt_time': 0.002507769, 'queue_time': 0.049678956, 'total_time': 0.076258892}, 'model_name': 'openai/gpt-oss-120b', 'system_fingerprint': 'fp_4a19b1544c', 'service_tier': 'on_demand', 'finish_reason': 'stop', 'logprobs': None}, id='run--baba80eb-b311-421a-943b-c1955a6acb2b-0', usage_metadata={'input_tokens': 72, 'output_tokens': 37, 'total_tokens': 109})"
      ]
     },
     "execution_count": 7,
     "metadata": {},
     "output_type": "execute_result"
    }
   ],
   "source": [
    "import os \n",
    "from dotenv import load_dotenv\n",
    "load_dotenv()\n",
    "os.environ['GROQ_API_KEY'] = os.getenv('GROQ_API_KEY')\n",
    "groq_api_key = os.getenv('GROQ_API_KEY')\n",
    "\n",
    "from langchain_groq import ChatGroq\n",
    "llm = ChatGroq(model=\"openai/gpt-oss-120b\", api_key=groq_api_key)\n",
    "llm.invoke(\"hello\")\n"
   ]
  },
  {
   "cell_type": "code",
   "execution_count": 19,
   "id": "2886d092",
   "metadata": {},
   "outputs": [],
   "source": [
    "from typing_extensions import TypedDict, Literal\n",
    "from pydantic import BaseModel, Field\n",
    "from langchain_core.messages import HumanMessage, SystemMessage\n",
    "\n",
    "class Route(BaseModel):\n",
    "    step:Literal[\"poem\", \"story\", \"joke\"] = Field(description=\"The next step in routing process\")\n",
    "\n",
    "router = llm.with_structured_output(Route)\n",
    "\n",
    "class State(TypedDict):\n",
    "    input:str\n",
    "    decision:str\n",
    "    output:str\n",
    "\n",
    "def llm_call_1(state:State):\n",
    "    \"\"\" Write a story\"\"\"\n",
    "    print(\"LLM call 1(story) is called\")\n",
    "    result = llm.invoke(state[\"input\"])\n",
    "    return {\"output\": result.content}\n",
    "\n",
    "def llm_call_2(state:State):\n",
    "    \"\"\" Write a joke\"\"\"\n",
    "    print(\"LLM call 2(joke) is called\")\n",
    "    result = llm.invoke(state[\"input\"])\n",
    "    return {\"output\": result.content}\n",
    "\n",
    "def llm_call_3(state:State):\n",
    "    \"\"\" Write a poem\"\"\"\n",
    "    print(\"LLM call 3(poem) is called\")\n",
    "    result = llm.invoke(state[\"input\"])\n",
    "    return {\"output\": result.content}\n",
    "\n",
    "def llm_call_router(state:State):\n",
    "    \"\"\" Route the input to the appropriate node \"\"\"\n",
    "    decision = router.invoke(\n",
    "        [\n",
    "            SystemMessage(\n",
    "                content=\"Route the input to story or joke or poem based on the users request\"\n",
    "            ), \n",
    "            HumanMessage(content=state[\"input\"])\n",
    "        ]\n",
    "    )\n",
    "    \n",
    "    return {\"decision\": decision.step}\n",
    "\n",
    "def route_decision(state:State):\n",
    "    if state[\"decision\"] == \"story\":\n",
    "        return \"llm_call_1\"\n",
    "    elif state[\"decision\"] == \"joke\":\n",
    "        return \"llm_call_2\"\n",
    "    elif state[\"decision\"] == \"poem\":\n",
    "        return \"llm_call_3\""
   ]
  },
  {
   "cell_type": "code",
   "execution_count": 20,
   "id": "cccee531",
   "metadata": {},
   "outputs": [
    {
     "data": {
      "image/png": "[encoded data removed]",
      "text/plain": [
       "<IPython.core.display.Image object>"
      ]
     },
     "metadata": {},
     "output_type": "display_data"
    }
   ],
   "source": [
    "from langgraph.graph import StateGraph, START, END\n",
    "from IPython.display import Image, display\n",
    "\n",
    "router_builder = StateGraph(State)\n",
    "router_builder.add_node(\"llm_call_1\", llm_call_1)\n",
    "router_builder.add_node(\"llm_call_2\", llm_call_2)\n",
    "router_builder.add_node(\"llm_call_3\", llm_call_3)\n",
    "router_builder.add_node(\"llm_call_router\", llm_call_router)\n",
    "\n",
    "router_builder.add_edge(START, \"llm_call_router\")\n",
    "router_builder.add_conditional_edges(\n",
    "    \"llm_call_router\",\n",
    "    route_decision,{\n",
    "        \"llm_call_1\":\"llm_call_1\",\n",
    "        \"llm_call_2\":\"llm_call_2\",\n",
    "        \"llm_call_3\":\"llm_call_3\"}\n",
    ")\n",
    "router_builder.add_edge(\"llm_call_1\", END)\n",
    "router_builder.add_edge(\"llm_call_2\", END)\n",
    "router_builder.add_edge(\"llm_call_3\", END)\n",
    "\n",
    "outer_workflow = router_builder.compile()\n",
    "display(Image(outer_workflow.get_graph().draw_mermaid_png()))"
   ]
  },
  {
   "cell_type": "code",
   "execution_count": 21,
   "id": "ef9f73e7",
   "metadata": {},
   "outputs": [
    {
     "name": "stdout",
     "output_type": "stream",
     "text": [
      "LLM call 3(poem) is called\n",
      "**Ode to the Man of Steel**\n",
      "\n",
      "In a sky where sunrise paints the clouds,  \n",
      "A silvered silhouette cuts through the dawn,  \n",
      "A lone star‑born heart that never bows,  \n",
      "He carries hope where shadows have gone.  \n",
      "\n",
      "From Krypton’s cradle, a distant fire,  \n",
      "To Earth’s blue cradle, gentle and bright,  \n",
      "He learned the weight of love, of loss, desire—  \n",
      "A mantle forged in truth, not might.  \n",
      "\n",
      "When cities tremble under thunder’s roar,  \n",
      "And fear drapes its veil across the streets,  \n",
      "He lifts the world, his cape a soaring shore,  \n",
      "A beacon where the broken heart still beats.  \n",
      "\n",
      "No crown of gold, no throne of stone,  \n",
      "Just a simple “S” against the night—  \n",
      "A symbol that we’re never truly alone,  \n",
      "When courage rises, darkness takes flight.  \n",
      "\n",
      "So let the wind whisper his name,  \n",
      "Across the towers, over fields of grain—  \n",
      "Superman, the echo of a promise:  \n",
      "That within us all, a hero remains.\n"
     ]
    }
   ],
   "source": [
    "state = outer_workflow.invoke({\"input\":\"Write me a poem about superman\"})\n",
    "print(state[\"output\"])"
   ]
  },
  {
   "cell_type": "code",
   "execution_count": null,
   "id": "e547e65e",
   "metadata": {},
   "outputs": [],
   "source": []
  },
  {
   "cell_type": "code",
   "execution_count": null,
   "id": "80a3fc7f",
   "metadata": {},
   "outputs": [],
   "source": []
  },
  {
   "cell_type": "code",
   "execution_count": null,
   "id": "702569f2",
   "metadata": {},
   "outputs": [],
   "source": []
  },
  {
   "cell_type": "code",
   "execution_count": null,
   "id": "d5b5812e",
   "metadata": {},
   "outputs": [],
   "source": []
  },
  {
   "cell_type": "code",
   "execution_count": null,
   "id": "0dcd52c4",
   "metadata": {},
   "outputs": [],
   "source": []
  },
  {
   "cell_type": "code",
   "execution_count": null,
   "id": "505dc00a",
   "metadata": {},
   "outputs": [],
   "source": []
  },
  {
   "cell_type": "code",
   "execution_count": null,
   "id": "91b93991",
   "metadata": {},
   "outputs": [],
   "source": []
  },
  {
   "cell_type": "code",
   "execution_count": null,
   "id": "601d3aeb",
   "metadata": {},
   "outputs": [],
   "source": []
  },
  {
   "cell_type": "code",
   "execution_count": null,
   "id": "3c8a0a7b",
   "metadata": {},
   "outputs": [],
   "source": []
  },
  {
   "cell_type": "code",
   "execution_count": null,
   "id": "e3530832",
   "metadata": {},
   "outputs": [],
   "source": []
  }
 ],
 "metadata": {
  "kernelspec": {
   "display_name": "venv",
   "language": "python",
   "name": "python3"
  },
  "language_info": {
   "codemirror_mode": {
    "name": "ipython",
    "version": 3
   },
   "file_extension": ".py",
   "mimetype": "text/x-python",
   "name": "python",
   "nbconvert_exporter": "python",
   "pygments_lexer": "ipython3",
   "version": "3.12.0"
  }
 },
 "nbformat": 4,
 "nbformat_minor": 5
}

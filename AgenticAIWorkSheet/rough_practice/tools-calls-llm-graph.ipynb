{
 "cells": [
  {
   "cell_type": "markdown",
   "id": "9fb97002",
   "metadata": {},
   "source": [
    "# chainslanggraph"
   ]
  },
  {
   "cell_type": "code",
   "execution_count": 84,
   "id": "6a0c3df3",
   "metadata": {},
   "outputs": [],
   "source": [
    "from dotenv import load_dotenv\n",
    "load_dotenv()\n",
    "import os \n",
    "os.environ['GROQ_API_KEY'] = os.getenv('GROQ_API_KEY')"
   ]
  },
  {
   "cell_type": "code",
   "execution_count": 85,
   "id": "40a9b09d",
   "metadata": {},
   "outputs": [
    {
     "name": "stdout",
     "output_type": "stream",
     "text": [
      "==================================\u001b[1m Ai Message \u001b[0m==================================\n",
      "Name: LLMModel\n",
      "\n",
      "Please tell me how can I help\n",
      "================================\u001b[1m Human Message \u001b[0m=================================\n",
      "Name: Krish\n",
      "\n",
      "I want to learn coding\n",
      "==================================\u001b[1m Ai Message \u001b[0m==================================\n",
      "Name: LLMModel\n",
      "\n",
      "Which programming language you want to learn\n",
      "================================\u001b[1m Human Message \u001b[0m=================================\n",
      "Name: Krish\n",
      "\n",
      "I want to learn python programming language\n"
     ]
    }
   ],
   "source": [
    "from langchain_core.messages import AIMessage,HumanMessage\n",
    "from pprint import pprint\n",
    "\n",
    "messages=[AIMessage(content=f\"Please tell me how can I help\",name=\"LLMModel\")]\n",
    "messages.append(HumanMessage(content=f\"I want to learn coding\",name=\"Krish\"))\n",
    "messages.append(AIMessage(content=f\"Which programming language you want to learn\",name=\"LLMModel\"))\n",
    "messages.append(HumanMessage(content=f\"I want to learn python programming language\",name=\"Krish\"))\n",
    "\n",
    "for message in messages:\n",
    "    message.pretty_print()"
   ]
  },
  {
   "cell_type": "code",
   "execution_count": 86,
   "id": "66937122",
   "metadata": {},
   "outputs": [],
   "source": [
    "from langchain_groq import ChatGroq\n",
    "groq_api_key = os.getenv(\"GROQ_API_KEY\")\n",
    "llm = ChatGroq(model=\"openai/gpt-oss-120b\", api_key=groq_api_key)\n",
    "result = llm.invoke(messages)"
   ]
  },
  {
   "cell_type": "code",
   "execution_count": 87,
   "id": "0fd9ab6e",
   "metadata": {},
   "outputs": [
    {
     "data": {
      "text/plain": [
       "{'token_usage': {'completion_tokens': 2219,\n",
       "  'prompt_tokens': 113,\n",
       "  'total_tokens': 2332,\n",
       "  'completion_time': 4.172255636,\n",
       "  'prompt_time': 0.006118362,\n",
       "  'queue_time': 0.06908161,\n",
       "  'total_time': 4.178373998},\n",
       " 'model_name': 'openai/gpt-oss-120b',\n",
       " 'system_fingerprint': 'fp_e10890e4b9',\n",
       " 'service_tier': 'on_demand',\n",
       " 'finish_reason': 'stop',\n",
       " 'logprobs': None}"
      ]
     },
     "execution_count": 87,
     "metadata": {},
     "output_type": "execute_result"
    }
   ],
   "source": [
    "result.response_metadata"
   ]
  },
  {
   "cell_type": "code",
   "execution_count": 88,
   "id": "9d1af331",
   "metadata": {},
   "outputs": [],
   "source": [
    "def add(a:int, b:int)->int:\n",
    "    \"\"\" Add a and b\n",
    "    Args:\n",
    "        a(int) : first int\n",
    "        b(int) : second int\n",
    "\n",
    "    Return:\n",
    "        int\n",
    "    \"\"\"\n",
    "    return a + b"
   ]
  },
  {
   "cell_type": "code",
   "execution_count": 89,
   "id": "74527b2e",
   "metadata": {},
   "outputs": [
    {
     "data": {
      "text/plain": [
       "ChatGroq(client=<groq.resources.chat.completions.Completions object at 0x11fcabe00>, async_client=<groq.resources.chat.completions.AsyncCompletions object at 0x11fe904d0>, model_name='openai/gpt-oss-120b', model_kwargs={}, groq_api_key=SecretStr('**********'))"
      ]
     },
     "execution_count": 89,
     "metadata": {},
     "output_type": "execute_result"
    }
   ],
   "source": [
    "llm"
   ]
  },
  {
   "cell_type": "code",
   "execution_count": 90,
   "id": "90015877",
   "metadata": {},
   "outputs": [],
   "source": [
    "### Binding tool with llm\n",
    "\n",
    "llm_with_tools=llm.bind_tools([add])\n",
    "\n",
    "tool_call=llm_with_tools.invoke([HumanMessage(content=f\"What is 2 plus 2\",name=\"Krish\")])"
   ]
  },
  {
   "cell_type": "code",
   "execution_count": 91,
   "id": "98c816b7",
   "metadata": {},
   "outputs": [],
   "source": [
    "from typing_extensions import TypedDict\n",
    "from langchain_core.messages import AnyMessage\n",
    "\n",
    "class State(TypedDict):\n",
    "    message: list[AnyMessage]"
   ]
  },
  {
   "cell_type": "code",
   "execution_count": 92,
   "id": "a057ebec",
   "metadata": {},
   "outputs": [],
   "source": [
    "from langgraph.graph.message import add_messages\n",
    "from typing import Annotated\n",
    "class State(TypedDict):\n",
    "    messages:Annotated[list[AnyMessage],add_messages]"
   ]
  },
  {
   "cell_type": "code",
   "execution_count": 93,
   "id": "96621344",
   "metadata": {},
   "outputs": [
    {
     "data": {
      "text/plain": [
       "[AIMessage(content='Please tell me how can I help', additional_kwargs={}, response_metadata={}, name='LLMModel'),\n",
       " HumanMessage(content='I want to learn coding', additional_kwargs={}, response_metadata={}, name='Krish')]"
      ]
     },
     "execution_count": 93,
     "metadata": {},
     "output_type": "execute_result"
    }
   ],
   "source": [
    "initial_messages=[AIMessage(content=f\"Please tell me how can I help\",name=\"LLMModel\")]\n",
    "initial_messages.append(HumanMessage(content=f\"I want to learn coding\",name=\"Krish\"))\n",
    "initial_messages"
   ]
  },
  {
   "cell_type": "code",
   "execution_count": null,
   "id": "0f12d153",
   "metadata": {},
   "outputs": [
    {
     "data": {
      "text/plain": [
       "AIMessage(content='Which programming language you want to learn', additional_kwargs={}, response_metadata={}, name='LLMModel')"
      ]
     },
     "execution_count": 64,
     "metadata": {},
     "output_type": "execute_result"
    }
   ],
   "source": [
    "ai_message=AIMessage(content=f\"Which programming language you want to learn\",name=\"LLMModel\")\n",
    "ai_message"
   ]
  },
  {
   "cell_type": "code",
   "execution_count": null,
   "id": "998bf26d",
   "metadata": {},
   "outputs": [
    {
     "data": {
      "text/plain": [
       "[AIMessage(content='Please tell me how can I help', additional_kwargs={}, response_metadata={}, name='LLMModel', id='f3ba87c4-1e1a-4b74-82c1-33d7a681253a'),\n",
       " HumanMessage(content='I want to learn coding', additional_kwargs={}, response_metadata={}, name='Krish', id='c8d532d9-a75f-4687-8409-032e6bcd929e'),\n",
       " AIMessage(content='Which programming language you want to learn', additional_kwargs={}, response_metadata={}, name='LLMModel', id='3d122043-bfd0-465e-8db3-3683448c39bc')]"
      ]
     },
     "execution_count": 65,
     "metadata": {},
     "output_type": "execute_result"
    }
   ],
   "source": [
    "add_messages(initial_messages,ai_message)"
   ]
  },
  {
   "cell_type": "code",
   "execution_count": null,
   "id": "a2cb67b3",
   "metadata": {},
   "outputs": [],
   "source": [
    "## chatbot node functionality\n",
    "def llm_tool(state:State):\n",
    "    return {\"messages\":[llm_with_tools.invoke(state[\"messages\"])]}"
   ]
  },
  {
   "cell_type": "code",
   "execution_count": null,
   "id": "5b5c681a",
   "metadata": {},
   "outputs": [
    {
     "data": {
      "image/png": "[encoded data removed]",
      "text/plain": [
       "<IPython.core.display.Image object>"
      ]
     },
     "metadata": {},
     "output_type": "display_data"
    }
   ],
   "source": [
    "from IPython.display import Image, display\n",
    "from langgraph.graph import StateGraph, START, END\n",
    "builder = StateGraph(State)\n",
    "\n",
    "builder.add_node('llm_tool',llm_tool)\n",
    "\n",
    "builder.add_edge(START, \"llm_tool\")\n",
    "builder.add_edge(\"llm_tool\", END)\n",
    "\n",
    "graph = builder.compile()\n",
    "display(Image(graph.get_graph().draw_mermaid_png()))"
   ]
  },
  {
   "cell_type": "code",
   "execution_count": null,
   "id": "d4e67a25",
   "metadata": {},
   "outputs": [
    {
     "name": "stdout",
     "output_type": "stream",
     "text": [
      "================================\u001b[1m Human Message \u001b[0m=================================\n",
      "\n",
      "What is 2 plus 2\n",
      "==================================\u001b[1m Ai Message \u001b[0m==================================\n",
      "\n",
      "2 + 2 = 4.\n"
     ]
    }
   ],
   "source": [
    "\n",
    "messages=graph.invoke({\"messages\":\"What is 2 plus 2\"})\n",
    "\n",
    "for message in messages[\"messages\"]:\n",
    "    message.pretty_print()"
   ]
  },
  {
   "cell_type": "code",
   "execution_count": null,
   "id": "9f82704b",
   "metadata": {},
   "outputs": [],
   "source": [
    "tools = [add]"
   ]
  },
  {
   "cell_type": "code",
   "execution_count": 98,
   "id": "622bbb00",
   "metadata": {},
   "outputs": [],
   "source": [
    "from langgraph.prebuilt import ToolNode\n",
    "from langgraph.prebuilt import tools_condition\n",
    "\n",
    "builder=StateGraph(State)\n",
    "\n",
    "builder.add_node(\"llm_tool\",llm_tool)\n",
    "builder.add_node(\"tools\",ToolNode(tools))\n",
    "\n",
    "builder.add_edge(START,\"llm_tool\")\n",
    "builder.add_conditional_edges(\n",
    "    \"llm_tool\",\n",
    "    # If the latest message (result) from assistant is a tool call -> tools_condition routes to tools\n",
    "    # If the latest message (result) from assistant is a not a tool call -> tools_condition routes to END\n",
    "    tools_condition\n",
    ")\n",
    "builder.add_edge(\"tools\",END)\n",
    "\n",
    "\n",
    "graph_builder = builder.compile()"
   ]
  },
  {
   "cell_type": "code",
   "execution_count": 99,
   "id": "05b07e4f",
   "metadata": {},
   "outputs": [
    {
     "data": {
      "image/png": "[encoded data removed]",
      "text/plain": [
       "<IPython.core.display.Image object>"
      ]
     },
     "metadata": {},
     "output_type": "display_data"
    }
   ],
   "source": [
    "display(Image(graph_builder.get_graph().draw_mermaid_png()))"
   ]
  },
  {
   "cell_type": "code",
   "execution_count": 100,
   "id": "7f718645",
   "metadata": {},
   "outputs": [
    {
     "name": "stdout",
     "output_type": "stream",
     "text": [
      "================================\u001b[1m Human Message \u001b[0m=================================\n",
      "\n",
      "What is 2 plus 2\n",
      "==================================\u001b[1m Ai Message \u001b[0m==================================\n",
      "\n",
      "2 + 2 = 4.\n"
     ]
    }
   ],
   "source": [
    "## invocation\n",
    "\n",
    "messages=graph.invoke({\"messages\":\"What is 2 plus 2\"})\n",
    "\n",
    "for message in messages[\"messages\"]:\n",
    "    message.pretty_print()"
   ]
  },
  {
   "cell_type": "code",
   "execution_count": 102,
   "id": "4d134cfc",
   "metadata": {},
   "outputs": [
    {
     "name": "stdout",
     "output_type": "stream",
     "text": [
      "================================\u001b[1m Human Message \u001b[0m=================================\n",
      "\n",
      "What Machine Learning\n",
      "==================================\u001b[1m Ai Message \u001b[0m==================================\n",
      "\n",
      "**Machine Learning (ML)** is a branch of artificial intelligence (AI) that focuses on building systems that can learn from data, identify patterns, and make decisions or predictions without being explicitly programmed for each specific task. Below is a concise overview covering the core concepts, types, workflow, and common applications.\n",
      "\n",
      "---\n",
      "\n",
      "## 1. Core Idea\n",
      "- **Learning from data:** Instead of writing explicit rules, you provide a model with examples (data) and let it discover the underlying relationships.\n",
      "- **Generalization:** The goal is for the model to perform well on *new* (unseen) data, not just the data it was trained on.\n",
      "\n",
      "---\n",
      "\n",
      "## 2. Main Types of Machine Learning\n",
      "\n",
      "| Category | How it learns | Typical algorithms | Typical tasks |\n",
      "|--------|--------------|-------------------|------------|\n",
      "| **Supervised Learning** | Uses labeled data (input–output pairs). | Linear regression, logistic regression, decision trees, random forests, support vector machines (SVM), neural networks, gradient boosting (XGBoost, LightGBM) | Classification (spam vs. ham), regression (price prediction), object detection, speech recognition |\n",
      "| **Unsupervised Learning** | Uses only input data; finds structure/patterns. | K‑means, hierarchical clustering, DBSCAN, PCA, t‑SNE, autoencoders, GANs (for generative modeling) | Clustering (customer segmentation), dimensionality reduction (visualization), anomaly detection, data compression |\n",
      "| **Semi‑Supervised Learning** | Mix of labeled & unlabeled data. | Semi‑supervised SVM, graph‑based methods, pseudo‑labeling, consistency regularization. | Situations where labeling is expensive (e.g., medical imaging). |\n",
      "| **Reinforcement Learning (RL)** | Learns through trial‑and‑error (reward/penalty). | Q‑learning, Deep Q‑Network (DQN), Policy Gradient, Proximal Policy Optimization (PPO), Actor‑Critic methods. | Game playing (AlphaGo), robotics, autonomous driving, recommendation systems. |\n",
      "| **Self‑Supervised Learning** | Generates its own supervision signal from raw data. | Contrastive learning (SimCLR, MoCo), masked language modeling (BERT, GPT), autoencoding. | Pre‑training large language/vision models. |\n",
      "| **Transfer Learning** | Re‑uses a model trained on one task/domain for another. | Fine‑tuning BERT, ResNet, GPT‑3, ImageNet pre‑trained models. | Reducing data requirements, speeding up training. |\n",
      "\n",
      "---\n",
      "\n",
      "## 3. Typical ML Workflow\n",
      "\n",
      "1. **Define the problem** – classification, regression, clustering, etc.\n",
      "2. **Collect and label data** (if supervised).  \n",
      "   - *Data sources*: databases, APIs, sensors, web scraping.\n",
      "3. **Preprocess & clean** – handle missing values, outliers, scaling, encoding categorical variables, data augmentation.\n",
      "4. **Feature Engineering** – create informative features (e.g., time‑series lag features, text embeddings, image transforms).  \n",
      "   - *Feature selection* (e.g., mutual information) or *feature extraction* (e.g., PCA, embeddings).\n",
      "5. **Choose a model** – simple (linear) vs. complex (deep neural networks) depending on data size & complexity.\n",
      "6. **Train** – optimize a loss function using an optimizer (e.g., SGD, Adam).  \n",
      "   - Use cross‑validation to estimate generalization.\n",
      "7. **Validate & tune** – hyper‑parameter tuning (grid search, Bayesian optimization), regularization (L1/L2, dropout), early stopping.\n",
      "8. **Evaluate** – metrics: accuracy, precision/recall/F1, ROC‑AUC (classification), RMSE, MAE (regression), silhouette score (clustering), etc.\n",
      "9. **Deploy** – model serving (REST API, gRPC, edge devices), monitoring for drift and performance decay.\n",
      "10 **Iterate** – collect new data, retrain, improve.\n",
      "\n",
      "---\n",
      "\n",
      "## 4. Common Algorithms & When to Use Them\n",
      "\n",
      "| Algorithm | Best For | Pros | Cons |\n",
      "|----------|----------|------|------|\n",
      "| **Linear/Logistic Regression** | Small, linear relationships, interpretability | Fast, easy to interpret | Poor with non‑linear patterns |\n",
      "| **Decision Trees / Random Forests** | Tabular data, mixed data types, moderate size | Handles non‑linearities, robust to outliers, feature importance | Large trees can be memory‑heavy |\n",
      "| **Gradient Boosting (XGBoost, LightGBM, CatBoost)** | Tabular data with high performance demand | State‑of‑the‑art for many tabular tasks | Sensitive to hyper‑parameters, slower training |\n",
      "| **Support Vector Machines** | Small‑to‑medium datasets, high‑dimensional space | Good for margin‑based classification | Not scalable to very large datasets |\n",
      "| **Convolutional Neural Networks (CNNs)** | Images, video, spatial data | Learns hierarchical features, state‑of‑the‑art for vision | Requires many labeled samples, GPU compute |\n",
      "| **Recurrent Neural Networks (RNN, LSTM, GRU)** | Time series, language, sequential data | Captures temporal dependencies | Hard to train on long sequences |\n",
      "| **Transformer / BERT / GPT** | NLP, also vision (ViT), multimodal | Pre‑trained models, strong performance | Very large, compute‑heavy |\n",
      "| **K‑means / DBSCAN** | Clustering, unsupervised grouping | Simple, fast | Requires pre‑specifying number of clusters (K‑means) |\n",
      "| **Q‑learning / DQN** | RL tasks with discrete actions | Simple to implement | Limited to small state/action spaces |\n",
      "| **PPO / A3C** | Continuous actions, complex environments | Sample‑efficient, stable | More complex to implement |\n",
      "\n",
      "---\n",
      "\n",
      "## 5. Popular Tools & Frameworks\n",
      "\n",
      "| Domain | Library / Framework | Language | Notes |\n",
      "|-------|-------------------|--------|------|\n",
      "| **General ML** | Scikit‑learn (Python) | Classic algorithms, pipelines |\n",
      "| **Deep Learning** | TensorFlow, PyTorch, JAX | GPU/TPU support, large community |\n",
      "| **AutoML** | AutoGluon, H2O, Google AutoML, Auto-sklearn | Automated model selection & tuning |\n",
      "| **Data Processing** | pandas, Dask, Spark | Big data handling |\n",
      "| **Visualization** | Matplotlib, Seaborn, Plotly, Bokeh | EDA and model diagnostics |\n",
      "| **Model Serving** | TensorFlow Serving, TorchServe, ONNX Runtime, FastAPI | Production deployment |\n",
      "| **MLOps** | MLflow, Kubeflow, DVC, Airflow | Pipeline orchestration, tracking, CI/CD |\n",
      "| **GPU/TPU** | CUDA, cuDNN, TensorRT, NVIDIA RAPIDS | Accelerated training/inference |\n",
      "\n",
      "---\n",
      "\n",
      "## 6. Real‑World Applications\n",
      "\n",
      "| Domain | Example Use‑Case |\n",
      "|-------|-----------------|\n",
      "| **Healthcare** | Disease diagnosis from imaging, drug discovery (generative models), patient risk prediction |\n",
      "| **Finance** | Credit scoring, fraud detection, algorithmic trading |\n",
      "| **Retail** | Demand forecasting, recommendation systems, dynamic pricing |\n",
      "| **Manufacturing** | Predictive maintenance, quality inspection |\n",
      "| **Transportation** | Autonomous driving, traffic flow prediction |\n",
      "| **Natural Language** | Chatbots (GPT‑4, LLaMA), sentiment analysis, translation |\n",
      "| **Computer Vision** | Object detection (YOLO, Faster‑RCNN), facial recognition, video analytics |\n",
      "| **Robotics** | Motion planning, grasping, simulation‑to‑real transfer |\n",
      "| **Climate & Environment** | Weather forecasting, climate modeling, satellite image analysis |\n",
      "\n",
      "---\n",
      "\n",
      "## 7. Emerging Trends (2024‑2025)\n",
      "\n",
      "- **Foundation Models:** Large‑scale pre‑trained models (e.g., GPT‑4, LLaMA 2, PaLM) are being adapted to many downstream tasks with minimal fine‑tuning.\n",
      "- **Multimodal Learning:** Models that process text, images, audio, and even video simultaneously (e.g., CLIP, Flamingo).\n",
      "- **Efficient AI:** Techniques like quantization, pruning, and LoRA (low‑rank adaptation) to run large models on edge devices.\n",
      "- **Explainable AI (XAI):** SHAP, LIME, and counterfactual explanations are becoming standard for regulatory compliance.\n",
      "- **Federated Learning:** Training models across decentralized data (e.g., mobile devices) while preserving privacy.\n",
      "- **Neuro‑Symbolic AI:** Combining neural networks with symbolic reasoning for better interpretability and reasoning.\n",
      "\n",
      "---\n",
      "\n",
      "## 8. Quick “Starter” Example (Python)\n",
      "\n",
      "```python\n",
      "# Simple supervised classification with scikit-learn\n",
      "import pandas as pd\n",
      "from sklearn.model_selection import train_test_split\n",
      "from sklearn.ensemble import RandomForestClassifier\n",
      "from sklearn.metrics import classification_report\n",
      "\n",
      "# 1. Load data (e.g., from a CSV)\n",
      "df = pd.read_csv('https://raw.githubusercontent.com/selva86/datasets/master/iris.csv')\n",
      "X = df.drop('species', axis=1)          # features\n",
      "y = df['species']                     # target\n",
      "\n",
      "# 2. Train‑test split\n",
      "X_train, X_test, y_train, y_test = train_test_split(\n",
      "    X, y, test_size=0.2, random_state=42, stratify=y)\n",
      "\n",
      "# 3. Model\n",
      "model = RandomForestClassifier(n_estimators=200,\n",
      "                               max_depth=5,\n",
      "                               random_state=42)\n",
      "\n",
      "# 4. Fit\n",
      "model.fit(X_train, y_train)\n",
      "\n",
      "# 5. Predict & evaluate\n",
      "y_pred = model.predict(X_test)\n",
      "print(classification_report(y_test, y_pred))\n",
      "```\n",
      "\n",
      "*This code loads the classic Iris dataset, trains a small Random Forest, and prints precision/recall/F1 for each class.*\n",
      "\n",
      "---\n",
      "\n",
      "## 9. Getting Started – Checklist\n",
      "\n",
      "| Step | Action |\n",
      "|------|-------|\n",
      "| **1. Define the problem** | Write a clear problem statement (e.g., “predict churn of customers within 30 days”). |\n",
      "| **2. Gather data** | Identify sources, collect, and store (e.g., CSV, SQL, API). |\n",
      "| **3. Explore & preprocess** | Clean, visualize, and engineer features. |\n",
      "| **4. Choose baseline model** | Start with a simple algorithm (logistic regression / decision tree) to set a performance baseline. |\n",
      "| **5. Iterate** | Try more complex models (XGBoost, neural nets) and tune hyper‑parameters. |\n",
      "| **6. Evaluate** | Use cross‑validation; track metrics and visualizations (confusion matrix, ROC curve). |\n",
      "| **7. Deploy** | Containerize (Docker) and expose via a REST endpoint (FastAPI). |\n",
      "| **8. Monitor** | Set up logging, performance metrics, and retraining triggers. |\n",
      "\n",
      "---\n",
      "\n",
      "### TL;DR\n",
      "\n",
      "**Machine Learning** is about letting computers learn patterns from data so they can make predictions or decisions without explicit programming. It spans several paradigms—**supervised**, **unsupervised**, **reinforcement**, and **self‑supervised**—each suited to different data and tasks. The typical workflow involves **data collection → preprocessing → model selection → training → evaluation → deployment**. A rich ecosystem of tools (scikit‑learn, PyTorch, TensorFlow, MLOps platforms) makes it possible to build solutions ranging from simple regression models to massive foundation models that power chatbots, image generators, and autonomous systems.\n",
      "\n",
      "If you have a specific domain, dataset, or problem in mind, let me know and I can walk you through a concrete example or help you design a pipeline!\n"
     ]
    }
   ],
   "source": [
    "messages = graph.invoke({\"messages\": \"What Machine Learning\"})\n",
    "for message in messages[\"messages\"]:\n",
    "    message.pretty_print()"
   ]
  },
  {
   "cell_type": "code",
   "execution_count": null,
   "id": "3c5813b0",
   "metadata": {},
   "outputs": [],
   "source": []
  },
  {
   "cell_type": "code",
   "execution_count": null,
   "id": "b8425d34",
   "metadata": {},
   "outputs": [],
   "source": []
  },
  {
   "cell_type": "code",
   "execution_count": null,
   "id": "71e5f44f",
   "metadata": {},
   "outputs": [],
   "source": []
  },
  {
   "cell_type": "code",
   "execution_count": null,
   "id": "2b813cb3",
   "metadata": {},
   "outputs": [],
   "source": []
  },
  {
   "cell_type": "code",
   "execution_count": null,
   "id": "de2f1270",
   "metadata": {},
   "outputs": [],
   "source": []
  },
  {
   "cell_type": "code",
   "execution_count": null,
   "id": "60782a4b",
   "metadata": {},
   "outputs": [],
   "source": []
  },
  {
   "cell_type": "code",
   "execution_count": null,
   "id": "eb9d08f8",
   "metadata": {},
   "outputs": [],
   "source": []
  }
 ],
 "metadata": {
  "kernelspec": {
   "display_name": "venv",
   "language": "python",
   "name": "python3"
  },
  "language_info": {
   "codemirror_mode": {
    "name": "ipython",
    "version": 3
   },
   "file_extension": ".py",
   "mimetype": "text/x-python",
   "name": "python",
   "nbconvert_exporter": "python",
   "pygments_lexer": "ipython3",
   "version": "3.12.0"
  }
 },
 "nbformat": 4,
 "nbformat_minor": 5
}

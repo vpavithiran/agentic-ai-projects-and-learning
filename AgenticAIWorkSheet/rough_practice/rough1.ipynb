{
 "cells": [
  {
   "cell_type": "code",
   "execution_count": 56,
   "id": "53753b27",
   "metadata": {},
   "outputs": [],
   "source": [
    "from dotenv import load_dotenv\n",
    "load_dotenv()\n",
    "import os\n",
    "os.environ['GROQ_API_KEY'] = os.getenv('GROQ_API_KEY')\n",
    "os.environ[\"TAVILY_API_KEY\"]=os.getenv(\"TAVILY_API_KEY\")\n",
    "groq_api_key = os.getenv('GROQ_API_KEY')"
   ]
  },
  {
   "cell_type": "code",
   "execution_count": 77,
   "id": "61383b0d",
   "metadata": {},
   "outputs": [
    {
     "data": {
      "text/plain": [
       "ChatGroq(client=<groq.resources.chat.completions.Completions object at 0x129a5a810>, async_client=<groq.resources.chat.completions.AsyncCompletions object at 0x129a5b8f0>, model_name='openai/gpt-oss-120b', model_kwargs={}, groq_api_key=SecretStr('**********'))"
      ]
     },
     "execution_count": 77,
     "metadata": {},
     "output_type": "execute_result"
    }
   ],
   "source": [
    "from langchain_groq import ChatGroq\n",
    "llm = ChatGroq(model=\"openai/gpt-oss-120b\", api_key=groq_api_key)\n",
    "llm"
   ]
  },
  {
   "cell_type": "code",
   "execution_count": 78,
   "id": "af00fa20",
   "metadata": {},
   "outputs": [],
   "source": [
    "from langchain_community.tools import WikipediaQueryRun, ArxivQueryRun\n",
    "from langchain_community.utilities import WikipediaAPIWrapper, ArxivAPIWrapper\n",
    "\n",
    "wiki_wrapper = WikipediaAPIWrapper(top_k_results=2, doc_content_chars_max=500)\n",
    "wikipedia = WikipediaQueryRun(api_wrapper=wiki_wrapper)\n",
    "\n",
    "arxiv_wrapper = ArxivAPIWrapper(top_k_results=2, doc_content_chars_max=500)\n",
    "arxiv = ArxivQueryRun(api_wrapper=arxiv_wrapper)\n",
    "\n",
    "from langchain_community.tools.tavily_search import TavilySearchResults\n",
    "tavily = TavilySearchResults()"
   ]
  },
  {
   "cell_type": "code",
   "execution_count": 79,
   "id": "569e32e4",
   "metadata": {},
   "outputs": [
    {
     "data": {
      "text/plain": [
       "[{'title': 'AI Daily News March 03 2025: Nvidia CEO - Apple Podcasts',\n",
       "  'url': 'https://podcasts.apple.com/ca/podcast/ai-daily-news-march-03-2025-nvidia-ceo-us-ai-chips/id1684415169?i=1000697521476',\n",
       "  'content': \"AI Unraveled: Latest AI News & Trends, ChatGPT, Gemini, DeepSeek, Gen AI, LLMs, AI Ethics & Bias\\n\\n# AI Daily News March 03 2025: ð\\x9f\\x9a\\x80 Nvidia CEO: US AI Chips Are 60x Faster Than Chinaâ\\x80\\x99s ð\\x9f\\x8d\\x8fApple's Siri Overhaul Facing Major Delays ð\\x9f\\x8e\\x99ï¸\\x8fNew AI Voice to Cross â\\x80\\x98Uncanny Valleyâ\\x80\\x99 ð\\x9f\\x8e¥Sora Video AI Coming to ChatGPT ð\\x9f§ªAI Detects Colorect [...] Nvidia claims a significant lead in AI chip speed over China, while Apple faces delays in its Siri AI overhaul. New AI applications are emerging, including highly realistic voice generation, automated resume screening, and AI cardiologists in China.OpenAI plans to integrate Sora video AI into ChatGPT, and large investments are being made in AI by companies like Honor and SoftBank. AI is also showing promise in healthcare with tools for cancer detection and improved patient care, but concerns [...] exist about algorithmic bias and the financial sustainability of some AI models. Finally, AI is anticipated to surpass human coding abilities, with models like Claude being evaluated for scientific and national security purposes and Samsung launching AI-powered devices to rival Apple.\",\n",
       "  'score': 0.9403148},\n",
       " {'title': 'GPT 4.5 is out! — Weekly AI Newsletter (March 3rd 2025) - Medium',\n",
       "  'url': 'https://medium.com/nlplanet/gpt-4-5-is-out-weekly-ai-newsletter-march-3rd-2025-6b31dd83ca60',\n",
       "  'content': 'Sign up\\n\\nSign in\\n\\nSign up\\n\\nSign in\\n\\n## Generative AI\\n\\nGenerative AI\\n\\nExplanations of AI, machine learning, news, guides, courses, papers, and more.\\n\\n# GPT 4.5 is out! — Weekly AI Newsletter (March 3rd 2025)\\n\\n## Anthropic releases Claude 3.7 Sonnet, OpenAI expands Deep Research for Plus users, and Google launches new code assistant\\n\\nFabio Chiusano\\n\\n--\\n\\nListen\\n\\nShare\\n\\n# 😎 News From The Web\\n\\n# 📚 Guides From The Web\\n\\n# 🔬 Interesting Papers and Repositories\\n\\n# ✨ Extra Content\\n\\nThank you for reading!',\n",
       "  'score': 0.90965873},\n",
       " {'title': 'Top 5 AI trends in March 2025: AI agents, smarter supply ... - Neudesic',\n",
       "  'url': 'https://www.neudesic.com/blog/top-5-ai-trends-march-2025/',\n",
       "  'content': 'March 2025 has brought a fresh wave of AI innovations that go beyond theoretical breakthroughs and translate directly into real-world impact. From OpenAI’s newly released tools for building AI agents to Microsoft’s external knowledge integration approach, this month’s highlights underscore how artificial intelligence is evolving in ways that matter today, not just tomorrow. Whether it’s optimizing supply chains, pushing the limits of robotics, or making AI systems smarter and more trustworthy, [...] Below, we delve into five top AI trends from March 2025 and explore the practical ways they’re changing industries—from retail to robotics—and setting the stage for what’s ahead. \\n\\n## 1. OpenAI Releases New Tools for Building AI Agents [...] This month’s advancements in AI reinforce a clear trajectory: artificial intelligence is no longer just a tool for automation—it’s becoming an essential collaborator in research, business, and even the physical world. As AI systems grow more capable, intuitive, and embedded in enterprise and consumer applications, the focus shifts from innovation alone to strategic implementation. Organizations that adapt to this shift will be best positioned to harness AI’s full potential, while those who lag',\n",
       "  'score': 0.9051298},\n",
       " {'title': 'Tech News & Trends - March 3, 2025 **NEW ISSUE** - GovDelivery',\n",
       "  'url': 'https://content.govdelivery.com/accounts/USFEDCOURTS/bulletins/3d51d5a',\n",
       "  'content': 'Conversation) \"Generative AI tools such as ChatGPT and Midjourney can produce text, images and videos far more quickly than any one person can accomplish by hand. But as someone who studies the societal impacts of AI, I’ve noticed an interesting trade-off: The technology can certainly save time, but it does so precisely to the extent that the user is willing to surrender control over the final product. For this reason, generative AI is probably most useful for things we care about the least.\" [...] framework on AI. The AI Act, which will go into effect in 2026, undertakes to govern the development and use of AI in the EU, using a risk-based approach in applying prospective new rules to different types of AI depending on the risk each presents.\" [...] Chegg Sues Google Over AI Overviews (The Verge) \"Online education company Chegg filed a lawsuit on February 24th against Google claiming that the company’s AI-generated summaries of search results have hurt its traffic and revenue, Reuters reports. It’s believed to be the first antitrust lawsuit filed by a single company over the AI Overviews feature, Reuters says.\"',\n",
       "  'score': 0.8976328},\n",
       " {'title': 'Latest Developments in Artificial Intelligence: March 2025 Update',\n",
       "  'url': 'https://bastakiss.com/blog/news-2/latest-developments-in-artificial-intelligence-march-2025-update-759',\n",
       "  'content': 'The trends revealed in these recent developments suggest that AI is approaching what Jensen Huang described as \"an inflection point\"—transitioning from primarily perception-based and generative capabilities to more agentic, reasoning, and physically embodied applications. The integration of advanced language models with robotics, the enhancement of fact-checking capabilities, and the development of AI for highly specialized domains indicate a more mature and capable generation of artificial [...] Google DeepMind has made significant strides in robotics by incorporating its advanced Gemini AI model into physical machines. The company recently demonstrated robots performing complex tasks such as \"slam dunking\" a miniature basketball through a desktop hoop—despite never having observed another robot perform similar actions. [...] Google is positioning artificial intelligence at the center of its strategy for 2025, with CEO Sundar Pichai emphasizing the importance of staying competitive in the rapidly evolving AI landscape. The company plans to expand its Gemini AI model to power multiple products and services, including search, personal assistants, and enterprise solutions.',\n",
       "  'score': 0.87807417}]"
      ]
     },
     "execution_count": 79,
     "metadata": {},
     "output_type": "execute_result"
    }
   ],
   "source": [
    "tavily.invoke(\"Provide me the recent AI news for march 3rd 2025\")"
   ]
  },
  {
   "cell_type": "code",
   "execution_count": 80,
   "id": "6de04b81",
   "metadata": {},
   "outputs": [],
   "source": [
    "tools = [tavily, wikipedia, arxiv]"
   ]
  },
  {
   "cell_type": "code",
   "execution_count": 81,
   "id": "9a25371a",
   "metadata": {},
   "outputs": [],
   "source": [
    "llm_with_tools = llm.bind_tools(tools)"
   ]
  },
  {
   "cell_type": "code",
   "execution_count": 97,
   "id": "84c6dd85",
   "metadata": {},
   "outputs": [],
   "source": [
    "from typing_extensions import TypedDict\n",
    "from pydantic import BaseModel\n",
    "from typing import Literal, Annotated\n",
    "from langchain_core.messages import AnyMessage\n",
    "from langgraph.graph import add_messages\n",
    "\n",
    "\n",
    "class State(BaseModel):\n",
    "    messages:Annotated[list[AnyMessage], add_messages]"
   ]
  },
  {
   "cell_type": "code",
   "execution_count": 102,
   "id": "49a39b66",
   "metadata": {},
   "outputs": [],
   "source": [
    "from IPython.display import display, Image\n",
    "from langgraph.graph import START, END, StateGraph\n",
    "from langgraph.prebuilt import ToolNode, tools_condition\n",
    "\n",
    "def tool_calling_llm(state:State):\n",
    "    #return{\"messages\":[llm_with_tools.invoke(state['messages'])]} # this is for TypedDict\n",
    "    return{\"messages\":[llm_with_tools.invoke(state.messages)]}  # this is for pydentic"
   ]
  },
  {
   "cell_type": "code",
   "execution_count": 103,
   "id": "8fb96806",
   "metadata": {},
   "outputs": [
    {
     "data": {
      "image/png": "[encoded data removed]",
      "text/plain": [
       "<IPython.core.display.Image object>"
      ]
     },
     "metadata": {},
     "output_type": "display_data"
    }
   ],
   "source": [
    "builder = StateGraph(State)\n",
    "builder.add_node(\"llm\", tool_calling_llm)\n",
    "builder.add_node(\"tools\", ToolNode(tools))\n",
    "\n",
    "builder.add_edge(START, 'llm')\n",
    "builder.add_conditional_edges('llm', tools_condition)\n",
    "builder.add_edge('tools', END)\n",
    "\n",
    "graph = builder.compile()\n",
    "\n",
    "display(Image(graph.get_graph().draw_mermaid_png()))"
   ]
  },
  {
   "cell_type": "code",
   "execution_count": 104,
   "id": "6216b132",
   "metadata": {},
   "outputs": [
    {
     "name": "stdout",
     "output_type": "stream",
     "text": [
      "================================\u001b[1m Human Message \u001b[0m=================================\n",
      "\n",
      "1706.03762\n",
      "==================================\u001b[1m Ai Message \u001b[0m==================================\n",
      "Tool Calls:\n",
      "  arxiv (fc_1d4a5e09-e0ba-4e83-9e4c-014d8e817366)\n",
      " Call ID: fc_1d4a5e09-e0ba-4e83-9e4c-014d8e817366\n",
      "  Args:\n",
      "    query: 1706.03762\n",
      "=================================\u001b[1m Tool Message \u001b[0m=================================\n",
      "Name: arxiv\n",
      "\n",
      "Published: 2023-08-02\n",
      "Title: Attention Is All You Need\n",
      "Authors: Ashish Vaswani, Noam Shazeer, Niki Parmar, Jakob Uszkoreit, Llion Jones, Aidan N. Gomez, Lukasz Kaiser, Illia Polosukhin\n",
      "Summary: The dominant sequence transduction models are based on complex recurrent or\n",
      "convolutional neural networks in an encoder-decoder configuration. The best\n",
      "performing models also connect the encoder and decoder through an attention\n",
      "mechanism. We propose a new simple network architecture, the Transformer, base\n"
     ]
    }
   ],
   "source": [
    "from langchain_core.messages import HumanMessage\n",
    "messages= graph.invoke({\"messages\":HumanMessage(content=\"1706.03762\")})\n",
    "for m in messages['messages']:\n",
    "    m.pretty_print()"
   ]
  },
  {
   "cell_type": "code",
   "execution_count": null,
   "id": "88d2321f",
   "metadata": {},
   "outputs": [],
   "source": []
  },
  {
   "cell_type": "code",
   "execution_count": null,
   "id": "8cc28990",
   "metadata": {},
   "outputs": [],
   "source": []
  }
 ],
 "metadata": {
  "kernelspec": {
   "display_name": "venv",
   "language": "python",
   "name": "python3"
  },
  "language_info": {
   "codemirror_mode": {
    "name": "ipython",
    "version": 3
   },
   "file_extension": ".py",
   "mimetype": "text/x-python",
   "name": "python",
   "nbconvert_exporter": "python",
   "pygments_lexer": "ipython3",
   "version": "3.12.0"
  }
 },
 "nbformat": 4,
 "nbformat_minor": 5
}

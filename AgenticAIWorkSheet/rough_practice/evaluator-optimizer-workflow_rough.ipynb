{
 "cells": [
  {
   "cell_type": "code",
   "execution_count": 1,
   "id": "7e132a99",
   "metadata": {},
   "outputs": [
    {
     "data": {
      "text/plain": [
       "AIMessage(content='Hello! How can I assist you today?', additional_kwargs={'reasoning_content': 'The user says \"hello world\". Probably they just want a greeting. So respond accordingly.'}, response_metadata={'token_usage': {'completion_tokens': 37, 'prompt_tokens': 73, 'total_tokens': 110, 'completion_time': 0.073705476, 'prompt_time': 0.00265898, 'queue_time': 0.04766615, 'total_time': 0.076364456}, 'model_name': 'openai/gpt-oss-120b', 'system_fingerprint': 'fp_e10890e4b9', 'service_tier': 'on_demand', 'finish_reason': 'stop', 'logprobs': None}, id='run--19c1ff91-6bd9-4ef4-a8c5-d1d86b954d42-0', usage_metadata={'input_tokens': 73, 'output_tokens': 37, 'total_tokens': 110})"
      ]
     },
     "execution_count": 1,
     "metadata": {},
     "output_type": "execute_result"
    }
   ],
   "source": [
    "import os \n",
    "from dotenv import load_dotenv\n",
    "load_dotenv()\n",
    "os.environ['GROQ_API_KEY'] = os.getenv('GROQ_API_KEY')\n",
    "groq_api_key = os.getenv('GROQ_API_KEY')\n",
    "\n",
    "from langchain_groq import ChatGroq\n",
    "llm = ChatGroq(model=\"openai/gpt-oss-120b\", api_key=groq_api_key)\n",
    "llm.invoke(\"hello world\")"
   ]
  },
  {
   "cell_type": "code",
   "execution_count": 3,
   "id": "f5a7c9e5",
   "metadata": {},
   "outputs": [],
   "source": [
    "from typing import Annotated, List\n",
    "from typing_extensions import TypedDict, Literal\n",
    "from pydantic import BaseModel, Field\n",
    "\n",
    "class State(TypedDict):\n",
    "    joke: str\n",
    "    topic: str\n",
    "    feedback: str\n",
    "    funny_or_not: str"
   ]
  },
  {
   "cell_type": "code",
   "execution_count": 4,
   "id": "fe4db887",
   "metadata": {},
   "outputs": [],
   "source": [
    "class Feedback(BaseModel):\n",
    "    grade: Literal[\"funny\", \"not funny\"] = Field(description=\"decide if the joke is funny or not.\")\n",
    "    feedback: str = Field(description=\"If the joke is not funny, provide feedback on how to improve it.\")\n",
    "\n",
    "evaluator = llm.with_structured_output(Feedback)"
   ]
  },
  {
   "cell_type": "code",
   "execution_count": 6,
   "id": "1b943c71",
   "metadata": {},
   "outputs": [],
   "source": [
    "def llm_call_generator(state:State):\n",
    "    \"\"\"LLM generate a joke\"\"\"\n",
    "    if state.get(\"feedback\"):\n",
    "        msg = llm.invoke(\n",
    "            f\"Write a joke about {state['topic']} but take into the account the feedback: {state[\"feedback\"]}\"\n",
    "            )\n",
    "    else:\n",
    "        msg = llm.invoke(f\"Write a joke about {state['topic']}\")\n",
    "    return {\"joke\":msg.content}\n",
    "\n",
    "def llm_call_evaluator(state:State):\n",
    "    \"\"\" LLM evaluates the joke\"\"\"\n",
    "    grade = evaluator.invoke(f\"Grade the joke: {state[\"joke\"]}\")\n",
    "    return {\"funny_or_not\": grade.grade, \"feedback\": grade.feedback}\n",
    "\n",
    "def route_joke(state:State):\n",
    "    \"\"\"Route back to joke generator or endbased upon feedback from the evaluator\"\"\"\n",
    "    if state[\"funny_or_not\"] == \"funny\":\n",
    "        return \"Accepted\"\n",
    "    elif state[\"funny_or_not\"] == \"not funny\":\n",
    "        return \"Rejected + Feedback\"\n"
   ]
  },
  {
   "cell_type": "code",
   "execution_count": 7,
   "id": "4f542d2c",
   "metadata": {},
   "outputs": [
    {
     "data": {
      "image/png": "[encoded data removed]",
      "text/plain": [
       "<IPython.core.display.Image object>"
      ]
     },
     "metadata": {},
     "output_type": "display_data"
    }
   ],
   "source": [
    "from langgraph.graph import StateGraph, START,END\n",
    "from IPython.display import display, Image\n",
    "\n",
    "optimizer_builder = StateGraph(State)\n",
    "optimizer_builder.add_node(\"generator\", llm_call_generator)\n",
    "optimizer_builder.add_node(\"evaluator\", llm_call_evaluator)\n",
    "\n",
    "optimizer_builder.add_edge(START, \"generator\")\n",
    "optimizer_builder.add_edge(\"generator\", \"evaluator\")\n",
    "optimizer_builder.add_conditional_edges(\"evaluator\", route_joke, {\"Accepted\":END, \"Rejected + Feedback\":\"generator\"})\n",
    "graph = optimizer_builder.compile()\n",
    "\n",
    "display(Image(graph.get_graph().draw_mermaid_png()))"
   ]
  },
  {
   "cell_type": "code",
   "execution_count": 20,
   "id": "f88c0498",
   "metadata": {},
   "outputs": [
    {
     "data": {
      "text/plain": [
       "'**Setup:** Why did the gay Wi‑Fi network always get the best reception at parties?  \\n\\n**Punchline:** Because it’s always broadcasting in full rainbow‑mode, and everyone knows it’s got a strong signal for “coming out” and a flawless connection for “being fabulous”!'"
      ]
     },
     "execution_count": 20,
     "metadata": {},
     "output_type": "execute_result"
    }
   ],
   "source": [
    "graph.invoke({\"topic\": \"gay\"})['joke']"
   ]
  },
  {
   "cell_type": "code",
   "execution_count": null,
   "id": "61a3db16",
   "metadata": {},
   "outputs": [],
   "source": []
  },
  {
   "cell_type": "code",
   "execution_count": null,
   "id": "3ca8927c",
   "metadata": {},
   "outputs": [],
   "source": []
  }
 ],
 "metadata": {
  "kernelspec": {
   "display_name": "venv",
   "language": "python",
   "name": "python3"
  },
  "language_info": {
   "codemirror_mode": {
    "name": "ipython",
    "version": 3
   },
   "file_extension": ".py",
   "mimetype": "text/x-python",
   "name": "python",
   "nbconvert_exporter": "python",
   "pygments_lexer": "ipython3",
   "version": "3.12.0"
  }
 },
 "nbformat": 4,
 "nbformat_minor": 5
}

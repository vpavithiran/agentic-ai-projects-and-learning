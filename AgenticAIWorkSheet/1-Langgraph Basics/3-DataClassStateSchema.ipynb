{
 "cells": [
  {
   "cell_type": "code",
   "execution_count": 1,
   "id": "cd20b557",
   "metadata": {},
   "outputs": [],
   "source": [
    "from typing_extensions import TypedDict\n",
    "from typing import Literal\n",
    "\n",
    "class TypeDictState(TypedDict):\n",
    "    name: str\n",
    "    game:Literal[\"cricket\", \"badminton\"]\n",
    "    "
   ]
  },
  {
   "cell_type": "code",
   "execution_count": 2,
   "id": "3d108aff",
   "metadata": {},
   "outputs": [],
   "source": [
    "def play_game(state:TypeDictState):\n",
    "    print(\"---Play Game node has been called---\")\n",
    "    return {\"name\":state['name']}\n",
    "\n",
    "def cricket(state: TypeDictState):\n",
    "    print(\"--Cricket node has been called--\")\n",
    "    return {\"game\":\"cricket\"}\n",
    "\n",
    "def badminton(state: TypeDictState):\n",
    "    print(\"--badminton node has been called--\")\n",
    "    return {\"game\":\"badminton\"}"
   ]
  },
  {
   "cell_type": "code",
   "execution_count": 3,
   "id": "2a699f9f",
   "metadata": {},
   "outputs": [],
   "source": [
    "# def play_game(state:TypeDictState):\n",
    "#     print(\"---Play Game node has been called---\")\n",
    "#     return {\"name\":state['name'] + \" want to play \"}\n",
    "\n",
    "# def cricket(state: TypeDictState):\n",
    "#     print(\"--Cricket node has been called--\")\n",
    "#     return {\"name\":state[\"name\"]+\" cricket\",\"game\":\"cricket\"}\n",
    "\n",
    "# def badminton(state: TypeDictState):\n",
    "#     print(\"--badminton node has been called--\")\n",
    "#     return {\"name\":state[\"name\"]+\" badminton\",\"game\":\"badminton\"}"
   ]
  },
  {
   "cell_type": "code",
   "execution_count": 4,
   "id": "ca62ab41",
   "metadata": {},
   "outputs": [],
   "source": [
    "import random\n",
    "def decide_play(state:TypeDictState)->Literal[\"cricket\", \"badminton\"]:\n",
    "    if random.random() < 0.5:\n",
    "        return \"cricket\"\n",
    "    else:\n",
    "        return \"badminton\""
   ]
  },
  {
   "cell_type": "code",
   "execution_count": 5,
   "id": "0d608aea",
   "metadata": {},
   "outputs": [
    {
     "data": {
      "image/png": "[encoded data removed]",
      "text/plain": [
       "<IPython.core.display.Image object>"
      ]
     },
     "metadata": {},
     "output_type": "display_data"
    }
   ],
   "source": [
    "import random \n",
    "from IPython.display import Image, display\n",
    "from langgraph.graph import StateGraph, START, END\n",
    "\n",
    "builder = StateGraph(TypeDictState)\n",
    "builder.add_node(\"playgame\", play_game)\n",
    "builder.add_node(\"cricket\", cricket)\n",
    "builder.add_node(\"badminton\", badminton)\n",
    "\n",
    "# flow of the graph\n",
    "\n",
    "builder.add_edge(START, \"playgame\")\n",
    "builder.add_conditional_edges(\"playgame\", decide_play)\n",
    "builder.add_edge(\"cricket\", END)\n",
    "builder.add_edge(\"badminton\", END)\n",
    "\n",
    "graph = builder.compile()\n",
    "display(Image(graph.get_graph().draw_mermaid_png()))"
   ]
  },
  {
   "cell_type": "code",
   "execution_count": 6,
   "id": "e6f3a849",
   "metadata": {},
   "outputs": [
    {
     "name": "stdout",
     "output_type": "stream",
     "text": [
      "---Play Game node has been called---\n",
      "--Cricket node has been called--\n"
     ]
    },
    {
     "data": {
      "text/plain": [
       "{'name': 'pavi', 'game': 'cricket'}"
      ]
     },
     "execution_count": 6,
     "metadata": {},
     "output_type": "execute_result"
    }
   ],
   "source": [
    "graph.invoke({\"name\":\"pavi\"})"
   ]
  },
  {
   "cell_type": "code",
   "execution_count": 7,
   "id": "4264ef73",
   "metadata": {},
   "outputs": [
    {
     "name": "stdout",
     "output_type": "stream",
     "text": [
      "---Play Game node has been called---\n",
      "--Cricket node has been called--\n"
     ]
    },
    {
     "data": {
      "text/plain": [
       "{'name': 123, 'game': 'cricket'}"
      ]
     },
     "execution_count": 7,
     "metadata": {},
     "output_type": "execute_result"
    }
   ],
   "source": [
    "graph.invoke({\"name\":123})"
   ]
  },
  {
   "cell_type": "code",
   "execution_count": 19,
   "id": "90adfe90",
   "metadata": {},
   "outputs": [],
   "source": [
    "from dataclasses import dataclass\n",
    "\n",
    "@dataclass\n",
    "class DataClassState:\n",
    "    name: str\n",
    "    game: Literal[\"badminton\", \"cricket\"]"
   ]
  },
  {
   "cell_type": "code",
   "execution_count": 20,
   "id": "f2aab908",
   "metadata": {},
   "outputs": [],
   "source": [
    "def play_game(state:DataClassState):\n",
    "    print(\"--The Game node has been called--\")\n",
    "    return {\"name\":state.name + \"want to play \"}\n",
    "\n",
    "def cricket(state:DataClassState):\n",
    "    print(\"--Cricket node has been called--\")\n",
    "    return {\"name\":state.name + \"cricket\", \"game\": \"cricket\"}\n",
    "\n",
    "def badminton(state:DataClassState):\n",
    "    print(\"--badminton node has been called--\")\n",
    "    return{\"name\":state.name + \"badminton\", \"game\": \"badminton\"}"
   ]
  },
  {
   "cell_type": "code",
   "execution_count": 21,
   "id": "7807e0b1",
   "metadata": {},
   "outputs": [],
   "source": [
    "import random\n",
    "def decide_play(state:DataClassState)->Literal['badminton', 'cricket']:\n",
    "    if random.random()>0.5:\n",
    "        return \"cricket\"\n",
    "    else:\n",
    "        return \"badminton\""
   ]
  },
  {
   "cell_type": "code",
   "execution_count": 22,
   "id": "6f200213",
   "metadata": {},
   "outputs": [
    {
     "data": {
      "image/png": "[encoded data removed]",
      "text/plain": [
       "<IPython.core.display.Image object>"
      ]
     },
     "metadata": {},
     "output_type": "display_data"
    }
   ],
   "source": [
    "builder = StateGraph(DataClassState)\n",
    "\n",
    "# build node\n",
    "builder.add_node(\"play_game\", play_game)\n",
    "builder.add_node(\"cricket\", cricket)\n",
    "builder.add_node(\"badminton\", badminton)\n",
    "\n",
    "# add edge\n",
    "builder.add_edge(START, \"play_game\")\n",
    "builder.add_conditional_edges(\"play_game\", decide_play)\n",
    "builder.add_edge(\"cricket\", END)\n",
    "builder.add_edge(\"badminton\", END)\n",
    "\n",
    "graph = builder.compile()\n",
    "\n",
    "display(Image(graph.get_graph().draw_mermaid_png()))"
   ]
  },
  {
   "cell_type": "code",
   "execution_count": 26,
   "id": "932e9d70",
   "metadata": {},
   "outputs": [
    {
     "name": "stdout",
     "output_type": "stream",
     "text": [
      "--The Game node has been called--\n",
      "--badminton node has been called--\n"
     ]
    },
    {
     "data": {
      "text/plain": [
       "{'name': 'paviwant to play badminton', 'game': 'badminton'}"
      ]
     },
     "execution_count": 26,
     "metadata": {},
     "output_type": "execute_result"
    }
   ],
   "source": [
    "graph.invoke({\"name\":\"pavi\", \"game\": \"cricket\"})"
   ]
  },
  {
   "cell_type": "code",
   "execution_count": null,
   "id": "b2b8f3d1",
   "metadata": {},
   "outputs": [],
   "source": []
  }
 ],
 "metadata": {
  "kernelspec": {
   "display_name": "venv",
   "language": "python",
   "name": "python3"
  },
  "language_info": {
   "codemirror_mode": {
    "name": "ipython",
    "version": 3
   },
   "file_extension": ".py",
   "mimetype": "text/x-python",
   "name": "python",
   "nbconvert_exporter": "python",
   "pygments_lexer": "ipython3",
   "version": "3.12.0"
  }
 },
 "nbformat": 4,
 "nbformat_minor": 5
}

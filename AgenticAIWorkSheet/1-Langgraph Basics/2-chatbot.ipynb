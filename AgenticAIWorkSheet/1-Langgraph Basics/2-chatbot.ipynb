{
 "cells": [
  {
   "cell_type": "code",
   "execution_count": 24,
   "id": "62bf6d2a",
   "metadata": {},
   "outputs": [],
   "source": [
    "# implementing simple chatbot using langgraph\n",
    "from typing_extensions import TypedDict\n",
    "from langgraph.graph import StateGraph, START, END\n",
    "\n",
    "# reducers\n",
    "from typing import Annotated\n",
    "from langgraph.graph.message import add_messages"
   ]
  },
  {
   "cell_type": "code",
   "execution_count": 25,
   "id": "b686a651",
   "metadata": {},
   "outputs": [],
   "source": [
    "class State(TypedDict):\n",
    "    messages:Annotated[list, add_messages]"
   ]
  },
  {
   "cell_type": "code",
   "execution_count": null,
   "id": "0d5f531a",
   "metadata": {},
   "outputs": [],
   "source": []
  },
  {
   "cell_type": "code",
   "execution_count": 26,
   "id": "514bdfe6",
   "metadata": {},
   "outputs": [],
   "source": [
    "import os \n",
    "from dotenv import load_dotenv\n",
    "load_dotenv()\n",
    "os.environ[\"OPENAI_API_KEY\"] = os.getenv(\"OPENAI_API_KEY\")\n",
    "os.environ[\"GROQ_API_KEY\"] = os.getenv(\"GROQ_API_KEY\")\n",
    "grok_api_key = os.getenv(\"GROQ_API_KEY\")"
   ]
  },
  {
   "cell_type": "code",
   "execution_count": 27,
   "id": "34b499a5",
   "metadata": {},
   "outputs": [
    {
     "data": {
      "text/plain": [
       "'Hello! 👋 How can I help you today?'"
      ]
     },
     "execution_count": 27,
     "metadata": {},
     "output_type": "execute_result"
    }
   ],
   "source": [
    "from langchain_groq import ChatGroq\n",
    "\n",
    "llm_groq = ChatGroq(model=\"openai/gpt-oss-20b\", api_key=grok_api_key)\n",
    "llm_groq.invoke(\"hello\").content"
   ]
  },
  {
   "cell_type": "code",
   "execution_count": 28,
   "id": "1a03af80",
   "metadata": {},
   "outputs": [],
   "source": [
    "def superbot(state:State):\n",
    "    return {\"messages\":[llm_groq.invoke(state['messages'])]}"
   ]
  },
  {
   "cell_type": "code",
   "execution_count": 29,
   "id": "4474babc",
   "metadata": {},
   "outputs": [
    {
     "data": {
      "image/png": "[encoded data removed]",
      "text/plain": [
       "<IPython.core.display.Image object>"
      ]
     },
     "metadata": {},
     "output_type": "display_data"
    }
   ],
   "source": [
    "graph = StateGraph(State)\n",
    "graph.add_node(\"Superbot\", superbot)\n",
    "\n",
    "graph.add_edge(START, \"Superbot\")\n",
    "graph.add_edge(\"Superbot\", END)\n",
    "\n",
    "graph_builder = graph.compile()\n",
    "\n",
    "# display\n",
    "from IPython.display import Image, display\n",
    "display(Image(graph_builder.get_graph().draw_mermaid_png()))"
   ]
  },
  {
   "cell_type": "code",
   "execution_count": 33,
   "id": "31f1c8eb",
   "metadata": {},
   "outputs": [
    {
     "data": {
      "text/plain": [
       "{'messages': [HumanMessage(content='Hi, My name is pavi and I love Cricket', additional_kwargs={}, response_metadata={}, id='e7603512-ac18-4c5e-81f7-52904f256d3c'),\n",
       "  AIMessage(content='Hey Pavi! 👋🏼\\n\\nNice to meet you—cricket fan, huh? That’s awesome! Whether you’re into the fast-paced action of the IPL, the classic charm of Test matches, or just love smashing the ball, I’m here to chat about any and all cricket topics.  \\n\\nWhat’s on your mind today? ⚡️\\n\\n- Do you follow a particular team or league?  \\n- Want to dive into stats, recent matches, or historical trivia?  \\n- Need tips on batting or bowling?  \\n\\nJust let me know, and we’ll get right into it! 🏏', additional_kwargs={'reasoning_content': \"We need to respond warmly. They introduced themselves. Also mention how we can help. Let's ask what they'd like to discuss.\"}, response_metadata={'token_usage': {'completion_tokens': 159, 'prompt_tokens': 82, 'total_tokens': 241, 'completion_time': 0.132605818, 'prompt_time': 0.007701263, 'queue_time': 0.620215081, 'total_time': 0.140307081}, 'model_name': 'openai/gpt-oss-20b', 'system_fingerprint': 'fp_fc8da5621e', 'service_tier': 'on_demand', 'finish_reason': 'stop', 'logprobs': None}, id='run--eb0a2969-34c1-4424-a009-f2f8596e680c-0', usage_metadata={'input_tokens': 82, 'output_tokens': 159, 'total_tokens': 241})]}"
      ]
     },
     "execution_count": 33,
     "metadata": {},
     "output_type": "execute_result"
    }
   ],
   "source": [
    "## invodation\n",
    "graph_builder.invoke({\"messages\": \"Hi, My name is pavi and I love Cricket\"})"
   ]
  },
  {
   "cell_type": "code",
   "execution_count": 38,
   "id": "4e35e10c",
   "metadata": {},
   "outputs": [
    {
     "name": "stdout",
     "output_type": "stream",
     "text": [
      "{'Superbot': {'messages': [AIMessage(content='Hello Pavithiran! 👋 How can I help you today?', additional_kwargs={'reasoning_content': 'We need to respond. The user says \"hello my name is pavithiran\". We should greet them. No constraints. Should we ask what they need? Just a friendly reply.'}, response_metadata={'token_usage': {'completion_tokens': 61, 'prompt_tokens': 78, 'total_tokens': 139, 'completion_time': 0.050654441, 'prompt_time': 0.005507795, 'queue_time': 0.046111473, 'total_time': 0.056162236}, 'model_name': 'openai/gpt-oss-20b', 'system_fingerprint': 'fp_fc8da5621e', 'service_tier': 'on_demand', 'finish_reason': 'stop', 'logprobs': None}, id='run--39eb8a2d-0c45-4aa4-b030-ebd5db523e88-0', usage_metadata={'input_tokens': 78, 'output_tokens': 61, 'total_tokens': 139})]}}\n"
     ]
    }
   ],
   "source": [
    "## Streaming the responses\n",
    "for event in graph_builder.stream({\"messages\": \"hello my name is pavithiran\"}):\n",
    "    print(event)"
   ]
  },
  {
   "cell_type": "code",
   "execution_count": 39,
   "id": "cf75fd48",
   "metadata": {},
   "outputs": [
    {
     "name": "stdout",
     "output_type": "stream",
     "text": [
      "{'messages': [HumanMessage(content='hello my name is pavithiran', additional_kwargs={}, response_metadata={}, id='e1e07b31-f213-46bc-99fe-c5bd6530d8e6')]}\n",
      "{'messages': [HumanMessage(content='hello my name is pavithiran', additional_kwargs={}, response_metadata={}, id='e1e07b31-f213-46bc-99fe-c5bd6530d8e6'), AIMessage(content='Hello Pavithiran! 👋 How can I assist you today?', additional_kwargs={'reasoning_content': 'The user says \"hello my name is pavithiran\". We should respond politely, perhaps ask how we can help. There\\'s no conflict. Just greet.'}, response_metadata={'token_usage': {'completion_tokens': 55, 'prompt_tokens': 78, 'total_tokens': 133, 'completion_time': 0.045633128, 'prompt_time': 0.005552465, 'queue_time': 0.046628815, 'total_time': 0.051185593}, 'model_name': 'openai/gpt-oss-20b', 'system_fingerprint': 'fp_fc8da5621e', 'service_tier': 'on_demand', 'finish_reason': 'stop', 'logprobs': None}, id='run--ca0d91a6-ba57-4d5f-871f-86d1fabc6deb-0', usage_metadata={'input_tokens': 78, 'output_tokens': 55, 'total_tokens': 133})]}\n"
     ]
    }
   ],
   "source": [
    "for event in graph_builder.stream({\"messages\": \"hello my name is pavithiran\"}, stream_mode=\"values\"):\n",
    "    print(event)"
   ]
  },
  {
   "cell_type": "code",
   "execution_count": null,
   "id": "450e6e44",
   "metadata": {},
   "outputs": [],
   "source": []
  }
 ],
 "metadata": {
  "kernelspec": {
   "display_name": "venv",
   "language": "python",
   "name": "python3"
  },
  "language_info": {
   "codemirror_mode": {
    "name": "ipython",
    "version": 3
   },
   "file_extension": ".py",
   "mimetype": "text/x-python",
   "name": "python",
   "nbconvert_exporter": "python",
   "pygments_lexer": "ipython3",
   "version": "3.12.0"
  }
 },
 "nbformat": 4,
 "nbformat_minor": 5
}
